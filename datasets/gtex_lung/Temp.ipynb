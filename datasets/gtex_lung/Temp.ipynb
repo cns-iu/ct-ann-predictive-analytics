{
 "cells": [
  {
   "cell_type": "code",
   "execution_count": 11,
   "metadata": {},
   "outputs": [
    {
     "data": {
      "text/plain": [
       "['esophagusmuscularis.h5ad',\n",
       " 'heart.h5ad',\n",
       " 'lung.h5ad',\n",
       " 'prostate.h5ad',\n",
       " 'skeletalmuscle.h5ad',\n",
       " 'skin.h5ad',\n",
       " 'Temp.ipynb']"
      ]
     },
     "execution_count": 11,
     "metadata": {},
     "output_type": "execute_result"
    }
   ],
   "source": [
    "import os"
   ]
  },
  {
   "cell_type": "code",
   "execution_count": 13,
   "metadata": {},
   "outputs": [
    {
     "name": "stdout",
     "output_type": "stream",
     "text": [
      "esophagusmuscularis.h5ad\n",
      "heart.h5ad\n",
      "lung.h5ad\n",
      "prostate.h5ad\n",
      "skeletalmuscle.h5ad\n",
      "skin.h5ad\n"
     ]
    }
   ],
   "source": [
    "import scanpy as sc\n",
    "\n",
    "\n",
    "organs_adata_files = [f for f in os.listdir() if '.h5ad' in f]\n",
    "organ_vs_donors = {}\n",
    "for organ_file in organs_adata_files:\n",
    "    print(organ_file)\n",
    "    adata = sc.read_h5ad(organ_file)\n",
    "    organ_vs_donors[organ_file.replace('.h5ad','')] = adata.obs['participant_id'].unique()"
   ]
  },
  {
   "cell_type": "code",
   "execution_count": 14,
   "metadata": {},
   "outputs": [
    {
     "data": {
      "text/plain": [
       "{'esophagusmuscularis': ['GTEX-1ICG6', 'GTEX-144GM', 'GTEX-1HSMQ']\n",
       " Categories (3, object): ['GTEX-1HSMQ', 'GTEX-1ICG6', 'GTEX-144GM'],\n",
       " 'heart': ['GTEX-1ICG6', 'GTEX-13N11', 'GTEX-15RIE']\n",
       " Categories (3, object): ['GTEX-1ICG6', 'GTEX-13N11', 'GTEX-15RIE'],\n",
       " 'lung': ['GTEX-1HSMQ', 'GTEX-15CHR', 'GTEX-13N11']\n",
       " Categories (3, object): ['GTEX-1HSMQ', 'GTEX-13N11', 'GTEX-15CHR'],\n",
       " 'prostate': ['GTEX-1HSMQ', 'GTEX-15CHR', 'GTEX-1I1GU', 'GTEX-12BJ1']\n",
       " Categories (4, object): ['GTEX-1HSMQ', 'GTEX-1I1GU', 'GTEX-12BJ1', 'GTEX-15CHR'],\n",
       " 'skeletalmuscle': ['GTEX-1HSMQ', 'GTEX-15RIE', 'GTEX-145ME']\n",
       " Categories (3, object): ['GTEX-1HSMQ', 'GTEX-15RIE', 'GTEX-145ME'],\n",
       " 'skin': ['GTEX-1HSMQ', 'GTEX-15EOM']\n",
       " Categories (2, object): ['GTEX-1HSMQ', 'GTEX-15EOM']}"
      ]
     },
     "execution_count": 14,
     "metadata": {},
     "output_type": "execute_result"
    }
   ],
   "source": [
    "organ_vs_donors"
   ]
  }
 ],
 "metadata": {
  "kernelspec": {
   "display_name": "base",
   "language": "python",
   "name": "python3"
  },
  "language_info": {
   "codemirror_mode": {
    "name": "ipython",
    "version": 3
   },
   "file_extension": ".py",
   "mimetype": "text/x-python",
   "name": "python",
   "nbconvert_exporter": "python",
   "pygments_lexer": "ipython3",
   "version": "3.9.12"
  },
  "orig_nbformat": 4,
  "vscode": {
   "interpreter": {
    "hash": "ad2bdc8ecc057115af97d19610ffacc2b4e99fae6737bb82f5d7fb13d2f2c186"
   }
  }
 },
 "nbformat": 4,
 "nbformat_minor": 2
}
