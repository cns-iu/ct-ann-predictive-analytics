{
 "cells": [
  {
   "cell_type": "markdown",
   "metadata": {},
   "source": [
    "# Quick overview of dataset we choose"
   ]
  },
  {
   "cell_type": "code",
   "execution_count": 10,
   "metadata": {},
   "outputs": [
    {
     "data": {
      "application/vnd.plotly.v1+json": {
       "config": {
        "plotlyServerURL": "https://plot.ly"
       },
       "data": [
        {
         "hovertemplate": "Column: %{x}<br>Unique-%{y}<br>%{hovertext}",
         "hovertext": [
          "<br>10X<br>smartseq2",
          "<br>1<br>2<br>3",
          "## Too many values ##",
          "<br>1_10X<br>1_smartseq2<br>2_10X<br>2_smartseq2<br>3_10X<br>3_smartseq2",
          "## Too many values ##"
         ],
         "marker": {
          "color": "rgb(39, 43, 102)",
          "line": {
           "color": "rgb(8,48,107)",
           "width": 0.8
          }
         },
         "name": "Counts for all metadata within AnnData.Obs",
         "opacity": 0.6,
         "type": "bar",
         "x": [
          "method",
          "donor",
          "cell_ontology_type",
          "donor_method",
          "cell_ontology_id"
         ],
         "y": [
          2,
          3,
          43,
          6,
          43
         ]
        }
       ],
       "layout": {
        "height": 1000,
        "template": {
         "data": {
          "bar": [
           {
            "error_x": {
             "color": "#2a3f5f"
            },
            "error_y": {
             "color": "#2a3f5f"
            },
            "marker": {
             "line": {
              "color": "#E5ECF6",
              "width": 0.5
             },
             "pattern": {
              "fillmode": "overlay",
              "size": 10,
              "solidity": 0.2
             }
            },
            "type": "bar"
           }
          ],
          "barpolar": [
           {
            "marker": {
             "line": {
              "color": "#E5ECF6",
              "width": 0.5
             },
             "pattern": {
              "fillmode": "overlay",
              "size": 10,
              "solidity": 0.2
             }
            },
            "type": "barpolar"
           }
          ],
          "carpet": [
           {
            "aaxis": {
             "endlinecolor": "#2a3f5f",
             "gridcolor": "white",
             "linecolor": "white",
             "minorgridcolor": "white",
             "startlinecolor": "#2a3f5f"
            },
            "baxis": {
             "endlinecolor": "#2a3f5f",
             "gridcolor": "white",
             "linecolor": "white",
             "minorgridcolor": "white",
             "startlinecolor": "#2a3f5f"
            },
            "type": "carpet"
           }
          ],
          "choropleth": [
           {
            "colorbar": {
             "outlinewidth": 0,
             "ticks": ""
            },
            "type": "choropleth"
           }
          ],
          "contour": [
           {
            "colorbar": {
             "outlinewidth": 0,
             "ticks": ""
            },
            "colorscale": [
             [
              0,
              "#0d0887"
             ],
             [
              0.1111111111111111,
              "#46039f"
             ],
             [
              0.2222222222222222,
              "#7201a8"
             ],
             [
              0.3333333333333333,
              "#9c179e"
             ],
             [
              0.4444444444444444,
              "#bd3786"
             ],
             [
              0.5555555555555556,
              "#d8576b"
             ],
             [
              0.6666666666666666,
              "#ed7953"
             ],
             [
              0.7777777777777778,
              "#fb9f3a"
             ],
             [
              0.8888888888888888,
              "#fdca26"
             ],
             [
              1,
              "#f0f921"
             ]
            ],
            "type": "contour"
           }
          ],
          "contourcarpet": [
           {
            "colorbar": {
             "outlinewidth": 0,
             "ticks": ""
            },
            "type": "contourcarpet"
           }
          ],
          "heatmap": [
           {
            "colorbar": {
             "outlinewidth": 0,
             "ticks": ""
            },
            "colorscale": [
             [
              0,
              "#0d0887"
             ],
             [
              0.1111111111111111,
              "#46039f"
             ],
             [
              0.2222222222222222,
              "#7201a8"
             ],
             [
              0.3333333333333333,
              "#9c179e"
             ],
             [
              0.4444444444444444,
              "#bd3786"
             ],
             [
              0.5555555555555556,
              "#d8576b"
             ],
             [
              0.6666666666666666,
              "#ed7953"
             ],
             [
              0.7777777777777778,
              "#fb9f3a"
             ],
             [
              0.8888888888888888,
              "#fdca26"
             ],
             [
              1,
              "#f0f921"
             ]
            ],
            "type": "heatmap"
           }
          ],
          "heatmapgl": [
           {
            "colorbar": {
             "outlinewidth": 0,
             "ticks": ""
            },
            "colorscale": [
             [
              0,
              "#0d0887"
             ],
             [
              0.1111111111111111,
              "#46039f"
             ],
             [
              0.2222222222222222,
              "#7201a8"
             ],
             [
              0.3333333333333333,
              "#9c179e"
             ],
             [
              0.4444444444444444,
              "#bd3786"
             ],
             [
              0.5555555555555556,
              "#d8576b"
             ],
             [
              0.6666666666666666,
              "#ed7953"
             ],
             [
              0.7777777777777778,
              "#fb9f3a"
             ],
             [
              0.8888888888888888,
              "#fdca26"
             ],
             [
              1,
              "#f0f921"
             ]
            ],
            "type": "heatmapgl"
           }
          ],
          "histogram": [
           {
            "marker": {
             "pattern": {
              "fillmode": "overlay",
              "size": 10,
              "solidity": 0.2
             }
            },
            "type": "histogram"
           }
          ],
          "histogram2d": [
           {
            "colorbar": {
             "outlinewidth": 0,
             "ticks": ""
            },
            "colorscale": [
             [
              0,
              "#0d0887"
             ],
             [
              0.1111111111111111,
              "#46039f"
             ],
             [
              0.2222222222222222,
              "#7201a8"
             ],
             [
              0.3333333333333333,
              "#9c179e"
             ],
             [
              0.4444444444444444,
              "#bd3786"
             ],
             [
              0.5555555555555556,
              "#d8576b"
             ],
             [
              0.6666666666666666,
              "#ed7953"
             ],
             [
              0.7777777777777778,
              "#fb9f3a"
             ],
             [
              0.8888888888888888,
              "#fdca26"
             ],
             [
              1,
              "#f0f921"
             ]
            ],
            "type": "histogram2d"
           }
          ],
          "histogram2dcontour": [
           {
            "colorbar": {
             "outlinewidth": 0,
             "ticks": ""
            },
            "colorscale": [
             [
              0,
              "#0d0887"
             ],
             [
              0.1111111111111111,
              "#46039f"
             ],
             [
              0.2222222222222222,
              "#7201a8"
             ],
             [
              0.3333333333333333,
              "#9c179e"
             ],
             [
              0.4444444444444444,
              "#bd3786"
             ],
             [
              0.5555555555555556,
              "#d8576b"
             ],
             [
              0.6666666666666666,
              "#ed7953"
             ],
             [
              0.7777777777777778,
              "#fb9f3a"
             ],
             [
              0.8888888888888888,
              "#fdca26"
             ],
             [
              1,
              "#f0f921"
             ]
            ],
            "type": "histogram2dcontour"
           }
          ],
          "mesh3d": [
           {
            "colorbar": {
             "outlinewidth": 0,
             "ticks": ""
            },
            "type": "mesh3d"
           }
          ],
          "parcoords": [
           {
            "line": {
             "colorbar": {
              "outlinewidth": 0,
              "ticks": ""
             }
            },
            "type": "parcoords"
           }
          ],
          "pie": [
           {
            "automargin": true,
            "type": "pie"
           }
          ],
          "scatter": [
           {
            "marker": {
             "colorbar": {
              "outlinewidth": 0,
              "ticks": ""
             }
            },
            "type": "scatter"
           }
          ],
          "scatter3d": [
           {
            "line": {
             "colorbar": {
              "outlinewidth": 0,
              "ticks": ""
             }
            },
            "marker": {
             "colorbar": {
              "outlinewidth": 0,
              "ticks": ""
             }
            },
            "type": "scatter3d"
           }
          ],
          "scattercarpet": [
           {
            "marker": {
             "colorbar": {
              "outlinewidth": 0,
              "ticks": ""
             }
            },
            "type": "scattercarpet"
           }
          ],
          "scattergeo": [
           {
            "marker": {
             "colorbar": {
              "outlinewidth": 0,
              "ticks": ""
             }
            },
            "type": "scattergeo"
           }
          ],
          "scattergl": [
           {
            "marker": {
             "colorbar": {
              "outlinewidth": 0,
              "ticks": ""
             }
            },
            "type": "scattergl"
           }
          ],
          "scattermapbox": [
           {
            "marker": {
             "colorbar": {
              "outlinewidth": 0,
              "ticks": ""
             }
            },
            "type": "scattermapbox"
           }
          ],
          "scatterpolar": [
           {
            "marker": {
             "colorbar": {
              "outlinewidth": 0,
              "ticks": ""
             }
            },
            "type": "scatterpolar"
           }
          ],
          "scatterpolargl": [
           {
            "marker": {
             "colorbar": {
              "outlinewidth": 0,
              "ticks": ""
             }
            },
            "type": "scatterpolargl"
           }
          ],
          "scatterternary": [
           {
            "marker": {
             "colorbar": {
              "outlinewidth": 0,
              "ticks": ""
             }
            },
            "type": "scatterternary"
           }
          ],
          "surface": [
           {
            "colorbar": {
             "outlinewidth": 0,
             "ticks": ""
            },
            "colorscale": [
             [
              0,
              "#0d0887"
             ],
             [
              0.1111111111111111,
              "#46039f"
             ],
             [
              0.2222222222222222,
              "#7201a8"
             ],
             [
              0.3333333333333333,
              "#9c179e"
             ],
             [
              0.4444444444444444,
              "#bd3786"
             ],
             [
              0.5555555555555556,
              "#d8576b"
             ],
             [
              0.6666666666666666,
              "#ed7953"
             ],
             [
              0.7777777777777778,
              "#fb9f3a"
             ],
             [
              0.8888888888888888,
              "#fdca26"
             ],
             [
              1,
              "#f0f921"
             ]
            ],
            "type": "surface"
           }
          ],
          "table": [
           {
            "cells": {
             "fill": {
              "color": "#EBF0F8"
             },
             "line": {
              "color": "white"
             }
            },
            "header": {
             "fill": {
              "color": "#C8D4E3"
             },
             "line": {
              "color": "white"
             }
            },
            "type": "table"
           }
          ]
         },
         "layout": {
          "annotationdefaults": {
           "arrowcolor": "#2a3f5f",
           "arrowhead": 0,
           "arrowwidth": 1
          },
          "autotypenumbers": "strict",
          "coloraxis": {
           "colorbar": {
            "outlinewidth": 0,
            "ticks": ""
           }
          },
          "colorscale": {
           "diverging": [
            [
             0,
             "#8e0152"
            ],
            [
             0.1,
             "#c51b7d"
            ],
            [
             0.2,
             "#de77ae"
            ],
            [
             0.3,
             "#f1b6da"
            ],
            [
             0.4,
             "#fde0ef"
            ],
            [
             0.5,
             "#f7f7f7"
            ],
            [
             0.6,
             "#e6f5d0"
            ],
            [
             0.7,
             "#b8e186"
            ],
            [
             0.8,
             "#7fbc41"
            ],
            [
             0.9,
             "#4d9221"
            ],
            [
             1,
             "#276419"
            ]
           ],
           "sequential": [
            [
             0,
             "#0d0887"
            ],
            [
             0.1111111111111111,
             "#46039f"
            ],
            [
             0.2222222222222222,
             "#7201a8"
            ],
            [
             0.3333333333333333,
             "#9c179e"
            ],
            [
             0.4444444444444444,
             "#bd3786"
            ],
            [
             0.5555555555555556,
             "#d8576b"
            ],
            [
             0.6666666666666666,
             "#ed7953"
            ],
            [
             0.7777777777777778,
             "#fb9f3a"
            ],
            [
             0.8888888888888888,
             "#fdca26"
            ],
            [
             1,
             "#f0f921"
            ]
           ],
           "sequentialminus": [
            [
             0,
             "#0d0887"
            ],
            [
             0.1111111111111111,
             "#46039f"
            ],
            [
             0.2222222222222222,
             "#7201a8"
            ],
            [
             0.3333333333333333,
             "#9c179e"
            ],
            [
             0.4444444444444444,
             "#bd3786"
            ],
            [
             0.5555555555555556,
             "#d8576b"
            ],
            [
             0.6666666666666666,
             "#ed7953"
            ],
            [
             0.7777777777777778,
             "#fb9f3a"
            ],
            [
             0.8888888888888888,
             "#fdca26"
            ],
            [
             1,
             "#f0f921"
            ]
           ]
          },
          "colorway": [
           "#636efa",
           "#EF553B",
           "#00cc96",
           "#ab63fa",
           "#FFA15A",
           "#19d3f3",
           "#FF6692",
           "#B6E880",
           "#FF97FF",
           "#FECB52"
          ],
          "font": {
           "color": "#2a3f5f"
          },
          "geo": {
           "bgcolor": "white",
           "lakecolor": "white",
           "landcolor": "#E5ECF6",
           "showlakes": true,
           "showland": true,
           "subunitcolor": "white"
          },
          "hoverlabel": {
           "align": "left"
          },
          "hovermode": "closest",
          "mapbox": {
           "style": "light"
          },
          "paper_bgcolor": "white",
          "plot_bgcolor": "#E5ECF6",
          "polar": {
           "angularaxis": {
            "gridcolor": "white",
            "linecolor": "white",
            "ticks": ""
           },
           "bgcolor": "#E5ECF6",
           "radialaxis": {
            "gridcolor": "white",
            "linecolor": "white",
            "ticks": ""
           }
          },
          "scene": {
           "xaxis": {
            "backgroundcolor": "#E5ECF6",
            "gridcolor": "white",
            "gridwidth": 2,
            "linecolor": "white",
            "showbackground": true,
            "ticks": "",
            "zerolinecolor": "white"
           },
           "yaxis": {
            "backgroundcolor": "#E5ECF6",
            "gridcolor": "white",
            "gridwidth": 2,
            "linecolor": "white",
            "showbackground": true,
            "ticks": "",
            "zerolinecolor": "white"
           },
           "zaxis": {
            "backgroundcolor": "#E5ECF6",
            "gridcolor": "white",
            "gridwidth": 2,
            "linecolor": "white",
            "showbackground": true,
            "ticks": "",
            "zerolinecolor": "white"
           }
          },
          "shapedefaults": {
           "line": {
            "color": "#2a3f5f"
           }
          },
          "ternary": {
           "aaxis": {
            "gridcolor": "white",
            "linecolor": "white",
            "ticks": ""
           },
           "baxis": {
            "gridcolor": "white",
            "linecolor": "white",
            "ticks": ""
           },
           "bgcolor": "#E5ECF6",
           "caxis": {
            "gridcolor": "white",
            "linecolor": "white",
            "ticks": ""
           }
          },
          "title": {
           "x": 0.05
          },
          "xaxis": {
           "automargin": true,
           "gridcolor": "white",
           "linecolor": "white",
           "ticks": "",
           "title": {
            "standoff": 15
           },
           "zerolinecolor": "white",
           "zerolinewidth": 2
          },
          "yaxis": {
           "automargin": true,
           "gridcolor": "white",
           "linecolor": "white",
           "ticks": "",
           "title": {
            "standoff": 15
           },
           "zerolinecolor": "white",
           "zerolinewidth": 2
          }
         }
        },
        "title": {
         "text": "Summarized metadata from the \"LCA\" dataset"
        },
        "updatemenus": [
         {
          "buttons": [
           {
            "args": [
             {
              "yaxis.type": "linear"
             }
            ],
            "label": "Linear scale",
            "method": "relayout"
           },
           {
            "args": [
             {
              "yaxis.type": "log"
             }
            ],
            "label": "Log Scale",
            "method": "relayout"
           }
          ],
          "direction": "down",
          "showactive": true,
          "x": 1,
          "y": 1.1
         }
        ],
        "width": 1000,
        "xaxis": {
         "categoryorder": "category ascending",
         "title": {
          "text": "CellType label"
         }
        },
        "yaxis": {
         "dtick": 1,
         "tick0": 0,
         "title": {
          "text": "Unique Counts"
         }
        }
       }
      }
     },
     "metadata": {},
     "output_type": "display_data"
    }
   ],
   "source": [
    "import plotly.graph_objects as go, plotly.express as px\n",
    "import scanpy as sc, pandas as pd, numpy as np\n",
    "\n",
    "\n",
    "\n",
    "def get_unq_vals_as_str(x, verbose=False):\n",
    "    res = '<br>'\n",
    "    try:\n",
    "        allvals = sorted(list(set(x)))\n",
    "        if verbose:  print(allvals)\n",
    "        res += '<br>'.join([str(v) for v in allvals])\n",
    "    except Exception as e:\n",
    "        if verbose:  print(f'Error: {e}')\n",
    "        res += '## Error parsing values ##'\n",
    "    return res\n",
    "\n",
    "\n",
    "def create_summary_obs(adata, max_unique=50, verbose=False):\n",
    "    \"\"\"Create a summary dataframe containing all unique sorted values along with counts for the `obs` dataframe in the AnnData object.\n",
    "\n",
    "    Args:\n",
    "        adata (AnnData): Input AnnData object containing an `obs` dataframe that we can summarize and view.\n",
    "        max_unique (int, optional): Threshold upto which we show all values on the interactive plot. Defaults to 50.\n",
    "        verbose (bool, optional): Flag to indicate logging in verbose mode. Defaults to False.\n",
    "\n",
    "    Returns:\n",
    "        pd.DataFrame: Summarized `obs` dataframe.\n",
    "    \"\"\"\n",
    "    if verbose:  print(f'Getting unique values per columns in the obs-dataframe.')\n",
    "    unique_vals_per_col_df = pd.DataFrame(adata.obs.nunique()).reset_index()\n",
    "    unique_vals_per_col_df.columns = ['colname','nunique']\n",
    "\n",
    "    if verbose:  print(f'Filtering out columns that have more than {max_unique} values.')\n",
    "    cols_to_view_in_detail = unique_vals_per_col_df.loc[unique_vals_per_col_df['nunique'] < max_unique , 'colname'].tolist()\n",
    "\n",
    "    if verbose:  print(f'Pulling all values for columns that have less than {max_unique} values.')\n",
    "    details_subset_df = pd.DataFrame(adata.obs.loc[:, cols_to_view_in_detail].apply( get_unq_vals_as_str ).T).reset_index()\n",
    "    details_subset_df.columns = ['colname', 'unique']\n",
    "\n",
    "    if verbose:  print(f'Creating the final merged dataframe containing all unique sorted values along with counts.')\n",
    "    summary_obs_df = pd.merge(left=unique_vals_per_col_df, right=details_subset_df, how='left', on='colname')\n",
    "\n",
    "    return summary_obs_df\n",
    "\n",
    "\n",
    "\n",
    "def plot_obs_barchart(adata, max_unique=50, dataset_name='Dummy', verbose=False):\n",
    "    \"\"\"Create a summary dataframe and plot a barchart to show general distribution of metadata available in the AnnData object.\n",
    "\n",
    "    Args:\n",
    "        adata (AnnData): Input AnnData object containing an `obs` dataframe that we can summarize and view.\n",
    "        max_unique (int, optional): Threshold upto which we show all values on the interactive plot. Defaults to 50.\n",
    "        dataset_name (str, optional): Textual name for the input AnnData dataset. Defaults to 'Dummy'.\n",
    "        verbose (bool, optional): Flag to indicate logging in verbose mode. Defaults to False.\n",
    "\n",
    "    Returns:\n",
    "        plotly.Figure: A figure that we can plot later using `fig.show()`\n",
    "    \"\"\"\n",
    "    summary_obs_df = create_summary_obs(adata, max_unique=max_unique, verbose=verbose)\n",
    "    fig = go.Figure([\n",
    "        go.Bar(\n",
    "            x=summary_obs_df['colname'], \n",
    "            y=summary_obs_df['nunique'], \n",
    "            name='Counts for all metadata within AnnData.Obs',\n",
    "            marker_color='rgb(39, 43, 102)', \n",
    "            marker_line_color='rgb(8,48,107)',\n",
    "            hovertext=summary_obs_df['unique'].fillna('## Too many values ##'),\n",
    "            hovertemplate=\\\n",
    "                    'Column: %{x}' + \\\n",
    "                        '<br>Unique-%{y}' + \\\n",
    "                            '<br>%{hovertext}',\n",
    "            marker_line_width=.8,\n",
    "            opacity=0.6\n",
    "        )\n",
    "    ])\n",
    "\n",
    "    fig.update_layout(\n",
    "        yaxis={'title':'Unique Counts'},\n",
    "        xaxis={'title':'CellType label', 'categoryorder':'category ascending'}, \n",
    "        title=f'Summarized metadata from the \"{dataset_name}\" dataset',\n",
    "        width=1000,\n",
    "        height=1000,\n",
    "        updatemenus=[\n",
    "                dict(\n",
    "                    buttons=list([\n",
    "                        dict(\n",
    "                            args=[{'yaxis.type': 'linear'}],\n",
    "                            label='Linear scale',\n",
    "                            method='relayout'\n",
    "                        ),\n",
    "                        dict(\n",
    "                            args=[{'yaxis.type': 'log'}],\n",
    "                            label='Log Scale',\n",
    "                            method='relayout'\n",
    "                        )\n",
    "                    ]),\n",
    "                    direction='down',\n",
    "                    showactive=True,\n",
    "                    x=1.,\n",
    "                    y=1.1\n",
    "                )\n",
    "            ]\n",
    "        )\n",
    "\n",
    "    fig.update_yaxes(tick0=0, dtick=1)\n",
    "    if verbose:  fig.show()\n",
    "    return fig\n",
    "\n",
    "\n",
    "\n",
    "def plot_obs_treemap(adata, max_unique=50, dataset_name='Dummy', verbose=False):\n",
    "    \"\"\"Create a summary dataframe and plot a treemap to show general distribution of metadata available in the AnnData object.\n",
    "\n",
    "    Args:\n",
    "        adata (AnnData): Input AnnData object containing an `obs` dataframe that we can summarize and view.\n",
    "        max_unique (int, optional): Threshold upto which we show all values on the interactive plot. Defaults to 50.\n",
    "        dataset_name (str, optional): Textual name for the input AnnData dataset. Defaults to 'Dummy'.\n",
    "        verbose (bool, optional): Flag to indicate logging in verbose mode. Defaults to False.\n",
    "\n",
    "    Returns:\n",
    "        plotly.Figure: A figure that we can plot later using `fig.show()`\n",
    "    \"\"\"\n",
    "    summary_obs_df = create_summary_obs(adata, max_unique=max_unique, verbose=verbose)\n",
    "    summary_obs_df.loc[:, 'nunique_log'] = np.log(summary_obs_df.loc[:, 'nunique'])\n",
    "    \n",
    "    \n",
    "    fig = px.treemap(\n",
    "        summary_obs_df, \n",
    "        path=['colname'], \n",
    "        values='nunique',\n",
    "        color='colname',\n",
    "        hover_data={'nunique': True, 'unique' : True},\n",
    "        hover_name='colname'\n",
    "    )\n",
    "    fig.update_layout(\n",
    "        margin = dict(t=50, l=25, r=25, b=25),\n",
    "        yaxis={'title':'Unique Counts'},\n",
    "        xaxis={'title':'CellType label', 'categoryorder':'category ascending'}, \n",
    "        title=f'Summarized metadata from the \"{dataset_name}\" dataset',\n",
    "        width=800,\n",
    "        height=800\n",
    "    )\n",
    "\n",
    "    fig.update_traces(marker={'colorscale':'viridis'})\n",
    "    if verbose:  fig.show()\n",
    "    return fig\n",
    "\n",
    "\n",
    "\n",
    "\n",
    "ANNDATA_FOLDER = 'datasets'\n",
    "QUERY_DATASET_NAME = 'LCA'\n",
    "ABS_FILE_PATH = f'{ANNDATA_FOLDER}/{QUERY_DATASET_NAME}/{QUERY_DATASET_NAME}.h5ad'\n",
    "\n",
    "# \"LCA.h5ad\" file contains existing annotations using a human-in-the-loop strategy by the authors \n",
    "query_adata = sc.read_h5ad(ABS_FILE_PATH)\n",
    "\n",
    "fig = plot_obs_barchart(query_adata, max_unique=30, dataset_name=QUERY_DATASET_NAME)\n",
    "fig.show()"
   ]
  },
  {
   "cell_type": "code",
   "execution_count": 12,
   "metadata": {},
   "outputs": [
    {
     "data": {
      "text/plain": [
       "['capillary endothelial cell',\n",
       " 'dendritic cell, human',\n",
       " 'conventional dendritic cell',\n",
       " 'plasmacytoid dendritic cell',\n",
       " 'CD11c-negative plasmacytoid dendritic cell',\n",
       " 'B cell',\n",
       " 'macrophage',\n",
       " 'naive thymus-derived CD8-positive, alpha-beta T cell',\n",
       " 'naive thymus-derived CD4-positive, alpha-beta T cell',\n",
       " 'CD4-positive, alpha-beta memory T cell',\n",
       " 'vein endothelial cell',\n",
       " 'endothelial cell of artery',\n",
       " 'pericyte cell',\n",
       " 'vascular associated smooth muscle cell',\n",
       " 'bronchial epithelial cell',\n",
       " 'mucus secreting cell',\n",
       " 'type II pneumocyte',\n",
       " 'basal cell',\n",
       " 'endothelial cell of lymphatic vessel',\n",
       " 'effector memory CD8-positive, alpha-beta T cell',\n",
       " 'mature NK T cell',\n",
       " 'natural killer cell',\n",
       " 'classical monocyte',\n",
       " 'basophil',\n",
       " 'intermediate monocyte',\n",
       " 'non-classical monocyte',\n",
       " 'bronchial smooth muscle cell',\n",
       " 'lung ciliated cell',\n",
       " 'fibroblast of lung',\n",
       " 'myofibroblast cell',\n",
       " 'adventitial cell',\n",
       " 'type I pneumocyte',\n",
       " 'megakaryocyte',\n",
       " 'plasma cell',\n",
       " 'lung microvascular endothelial cell',\n",
       " 'fibroblast',\n",
       " 'mesothelial cell of visceral pleura',\n",
       " 'mast cell',\n",
       " 'lung neuroendocrine cell',\n",
       " 'ionocyte',\n",
       " 'serous cell of epithelium of bronchus',\n",
       " 'respiratory goblet cell',\n",
       " 'neutrophil']"
      ]
     },
     "execution_count": 12,
     "metadata": {},
     "output_type": "execute_result"
    }
   ],
   "source": [
    "query_adata.obs['cell_ontology_type'].unique().tolist()"
   ]
  },
  {
   "cell_type": "code",
   "execution_count": 19,
   "metadata": {},
   "outputs": [
    {
     "name": "stdout",
     "output_type": "stream",
     "text": [
      "43 40 46 48\n"
     ]
    }
   ],
   "source": [
    "print(\n",
    "    len(query_adata.obs['cell_ontology_type'].unique().tolist()),\n",
    "        len(smartseq_adata.obs['cell_type'].unique().tolist()),\n",
    "            len(tenx_adata.obs['cell_type'].unique().tolist()),\n",
    "                len(set(smartseq_adata.obs['cell_type'].unique().tolist() + tenx_adata.obs['cell_type'].unique().tolist()))\n",
    "        )"
   ]
  },
  {
   "cell_type": "code",
   "execution_count": 31,
   "metadata": {},
   "outputs": [
    {
     "data": {
      "text/html": [
       "<div>\n",
       "<style scoped>\n",
       "    .dataframe tbody tr th:only-of-type {\n",
       "        vertical-align: middle;\n",
       "    }\n",
       "\n",
       "    .dataframe tbody tr th {\n",
       "        vertical-align: top;\n",
       "    }\n",
       "\n",
       "    .dataframe thead th {\n",
       "        text-align: right;\n",
       "    }\n",
       "</style>\n",
       "<table border=\"1\" class=\"dataframe\">\n",
       "  <thead>\n",
       "    <tr style=\"text-align: right;\">\n",
       "      <th></th>\n",
       "      <th>compartment</th>\n",
       "      <th>cell_type</th>\n",
       "    </tr>\n",
       "    <tr>\n",
       "      <th>index</th>\n",
       "      <th></th>\n",
       "      <th></th>\n",
       "    </tr>\n",
       "  </thead>\n",
       "  <tbody>\n",
       "    <tr>\n",
       "      <th>F22_B003140.gencode.vH29</th>\n",
       "      <td>immune</td>\n",
       "      <td>B cell</td>\n",
       "    </tr>\n",
       "    <tr>\n",
       "      <th>A20_B001772.gencode.vH29</th>\n",
       "      <td>immune</td>\n",
       "      <td>CD1c-positive myeloid dendritic cell</td>\n",
       "    </tr>\n",
       "    <tr>\n",
       "      <th>B17_B003140.gencode.vH29</th>\n",
       "      <td>immune</td>\n",
       "      <td>alveolar macrophage</td>\n",
       "    </tr>\n",
       "    <tr>\n",
       "      <th>F4_B003269.gencode.vH29</th>\n",
       "      <td>epithelial</td>\n",
       "      <td>basal cell</td>\n",
       "    </tr>\n",
       "    <tr>\n",
       "      <th>E18_B002385.gencode.vH29</th>\n",
       "      <td>stromal</td>\n",
       "      <td>bronchial smooth muscle cell</td>\n",
       "    </tr>\n",
       "    <tr>\n",
       "      <th>B2_B002382.gencode.vH29</th>\n",
       "      <td>endothelial</td>\n",
       "      <td>capillary endothelial cell</td>\n",
       "    </tr>\n",
       "    <tr>\n",
       "      <th>P3_3_AAACCTGAGTAGGCCA</th>\n",
       "      <td>epithelial</td>\n",
       "      <td>ciliated cell</td>\n",
       "    </tr>\n",
       "    <tr>\n",
       "      <th>A10_BP9_monocyte.gencode.vH29</th>\n",
       "      <td>immune</td>\n",
       "      <td>classical monocyte</td>\n",
       "    </tr>\n",
       "    <tr>\n",
       "      <th>D3_B003142.gencode.vH29</th>\n",
       "      <td>epithelial</td>\n",
       "      <td>club cell</td>\n",
       "    </tr>\n",
       "    <tr>\n",
       "      <th>H22_B002385.gencode.vH29</th>\n",
       "      <td>immune</td>\n",
       "      <td>dendritic cell</td>\n",
       "    </tr>\n",
       "    <tr>\n",
       "      <th>E14_B002580.gencode.vH29</th>\n",
       "      <td>immune</td>\n",
       "      <td>dendritic cell, human</td>\n",
       "    </tr>\n",
       "    <tr>\n",
       "      <th>A12_BP4.gencode.vH29</th>\n",
       "      <td>immune</td>\n",
       "      <td>effector memory CD4-positive, alpha-beta T cell</td>\n",
       "    </tr>\n",
       "    <tr>\n",
       "      <th>D18_BP6_cd4.gencode.vH29</th>\n",
       "      <td>immune</td>\n",
       "      <td>effector memory CD8-positive, alpha-beta T cell</td>\n",
       "    </tr>\n",
       "    <tr>\n",
       "      <th>A1_B002014.gencode.vH29</th>\n",
       "      <td>endothelial</td>\n",
       "      <td>endothelial cell</td>\n",
       "    </tr>\n",
       "    <tr>\n",
       "      <th>A2_B002383.gencode.vH29</th>\n",
       "      <td>endothelial</td>\n",
       "      <td>endothelial cell of artery</td>\n",
       "    </tr>\n",
       "    <tr>\n",
       "      <th>A14_B002383.gencode.vH29</th>\n",
       "      <td>endothelial</td>\n",
       "      <td>endothelial cell of lymphatic vessel</td>\n",
       "    </tr>\n",
       "    <tr>\n",
       "      <th>A14_B001222.gencode.vH29</th>\n",
       "      <td>epithelial</td>\n",
       "      <td>epithelial cell</td>\n",
       "    </tr>\n",
       "    <tr>\n",
       "      <th>A14_B002014.gencode.vH29</th>\n",
       "      <td>stromal</td>\n",
       "      <td>fibroblast</td>\n",
       "    </tr>\n",
       "    <tr>\n",
       "      <th>B22_B002386.gencode.vH29</th>\n",
       "      <td>immune</td>\n",
       "      <td>intermediate monocyte</td>\n",
       "    </tr>\n",
       "    <tr>\n",
       "      <th>A1_B002382.gencode.vH29</th>\n",
       "      <td>epithelial</td>\n",
       "      <td>lung ciliated cell</td>\n",
       "    </tr>\n",
       "    <tr>\n",
       "      <th>A10_B002382.gencode.vH29</th>\n",
       "      <td>epithelial</td>\n",
       "      <td>lung goblet cell</td>\n",
       "    </tr>\n",
       "    <tr>\n",
       "      <th>A18_B001223.gencode.vH29</th>\n",
       "      <td>epithelial</td>\n",
       "      <td>lung neuroendocrine cell</td>\n",
       "    </tr>\n",
       "    <tr>\n",
       "      <th>G21_B003138.gencode.vH29</th>\n",
       "      <td>immune</td>\n",
       "      <td>lymphocyte</td>\n",
       "    </tr>\n",
       "    <tr>\n",
       "      <th>P2_1_AAAGATGCATCACGAT</th>\n",
       "      <td>immune</td>\n",
       "      <td>macrophage</td>\n",
       "    </tr>\n",
       "    <tr>\n",
       "      <th>P22_B002014.gencode.vH29</th>\n",
       "      <td>immune</td>\n",
       "      <td>mature NK T cell</td>\n",
       "    </tr>\n",
       "    <tr>\n",
       "      <th>P1_1_CTCACACGTGTGCCTG</th>\n",
       "      <td>immune</td>\n",
       "      <td>megakaryocyte</td>\n",
       "    </tr>\n",
       "    <tr>\n",
       "      <th>P1_2_TTTGGTTGTGAGGGTT</th>\n",
       "      <td>stromal</td>\n",
       "      <td>mesothelial cell of pleura</td>\n",
       "    </tr>\n",
       "    <tr>\n",
       "      <th>P2_2_CAGAATCTCCCTGACT</th>\n",
       "      <td>immune</td>\n",
       "      <td>monocyte</td>\n",
       "    </tr>\n",
       "    <tr>\n",
       "      <th>P2_1_AAATGCCAGTCGATAA</th>\n",
       "      <td>epithelial</td>\n",
       "      <td>mucus secreting cell</td>\n",
       "    </tr>\n",
       "    <tr>\n",
       "      <th>P2_1_ACACCGGTCTAGAGTC</th>\n",
       "      <td>immune</td>\n",
       "      <td>myeloid dendritic cell, human</td>\n",
       "    </tr>\n",
       "    <tr>\n",
       "      <th>E21_B002014.gencode.vH29</th>\n",
       "      <td>immune</td>\n",
       "      <td>myeloid leukocyte</td>\n",
       "    </tr>\n",
       "    <tr>\n",
       "      <th>A14_B002382.gencode.vH29</th>\n",
       "      <td>stromal</td>\n",
       "      <td>myofibroblast cell</td>\n",
       "    </tr>\n",
       "    <tr>\n",
       "      <th>D22_B003136.gencode.vH29</th>\n",
       "      <td>immune</td>\n",
       "      <td>naive thymus-derived CD4-positive, alpha-beta ...</td>\n",
       "    </tr>\n",
       "    <tr>\n",
       "      <th>L21_B003139.gencode.vH29</th>\n",
       "      <td>immune</td>\n",
       "      <td>naive thymus-derived CD8-positive, alpha-beta ...</td>\n",
       "    </tr>\n",
       "    <tr>\n",
       "      <th>A21_B002014.gencode.vH29</th>\n",
       "      <td>immune</td>\n",
       "      <td>natural killer cell</td>\n",
       "    </tr>\n",
       "    <tr>\n",
       "      <th>D22_B002014.gencode.vH29</th>\n",
       "      <td>immune</td>\n",
       "      <td>neutrophil</td>\n",
       "    </tr>\n",
       "    <tr>\n",
       "      <th>C22_B002383.gencode.vH29</th>\n",
       "      <td>immune</td>\n",
       "      <td>non-classical monocyte</td>\n",
       "    </tr>\n",
       "    <tr>\n",
       "      <th>A10_B002014.gencode.vH29</th>\n",
       "      <td>stromal</td>\n",
       "      <td>pericyte</td>\n",
       "    </tr>\n",
       "    <tr>\n",
       "      <th>E20_B001769.gencode.vH29</th>\n",
       "      <td>immune</td>\n",
       "      <td>plasma cell</td>\n",
       "    </tr>\n",
       "    <tr>\n",
       "      <th>E22_B003136.gencode.vH29</th>\n",
       "      <td>immune</td>\n",
       "      <td>plasmacytoid dendritic cell, human</td>\n",
       "    </tr>\n",
       "    <tr>\n",
       "      <th>C16_B001224.gencode.vH29</th>\n",
       "      <td>stromal</td>\n",
       "      <td>pulmonary interstitial fibroblast</td>\n",
       "    </tr>\n",
       "    <tr>\n",
       "      <th>D4_B002461.gencode.vH29</th>\n",
       "      <td>epithelial</td>\n",
       "      <td>pulmonary ionocyte</td>\n",
       "    </tr>\n",
       "    <tr>\n",
       "      <th>N4_B002385.gencode.vH29</th>\n",
       "      <td>epithelial</td>\n",
       "      <td>respiratory basal cell</td>\n",
       "    </tr>\n",
       "    <tr>\n",
       "      <th>P3_3_TGGCTGGTCGTCCAGG</th>\n",
       "      <td>epithelial</td>\n",
       "      <td>tracheobronchial serous cell</td>\n",
       "    </tr>\n",
       "    <tr>\n",
       "      <th>A11_B002383.gencode.vH29</th>\n",
       "      <td>epithelial</td>\n",
       "      <td>type I pneumocyte</td>\n",
       "    </tr>\n",
       "    <tr>\n",
       "      <th>H12_B002382.gencode.vH29</th>\n",
       "      <td>epithelial</td>\n",
       "      <td>type II pneumocyte</td>\n",
       "    </tr>\n",
       "    <tr>\n",
       "      <th>D18_B002383.gencode.vH29</th>\n",
       "      <td>stromal</td>\n",
       "      <td>vascular associated smooth muscle cell</td>\n",
       "    </tr>\n",
       "    <tr>\n",
       "      <th>E12_B002382.gencode.vH29</th>\n",
       "      <td>endothelial</td>\n",
       "      <td>vein endothelial cell</td>\n",
       "    </tr>\n",
       "  </tbody>\n",
       "</table>\n",
       "</div>"
      ],
      "text/plain": [
       "                               compartment  \\\n",
       "index                                        \n",
       "F22_B003140.gencode.vH29            immune   \n",
       "A20_B001772.gencode.vH29            immune   \n",
       "B17_B003140.gencode.vH29            immune   \n",
       "F4_B003269.gencode.vH29         epithelial   \n",
       "E18_B002385.gencode.vH29           stromal   \n",
       "B2_B002382.gencode.vH29        endothelial   \n",
       "P3_3_AAACCTGAGTAGGCCA           epithelial   \n",
       "A10_BP9_monocyte.gencode.vH29       immune   \n",
       "D3_B003142.gencode.vH29         epithelial   \n",
       "H22_B002385.gencode.vH29            immune   \n",
       "E14_B002580.gencode.vH29            immune   \n",
       "A12_BP4.gencode.vH29                immune   \n",
       "D18_BP6_cd4.gencode.vH29            immune   \n",
       "A1_B002014.gencode.vH29        endothelial   \n",
       "A2_B002383.gencode.vH29        endothelial   \n",
       "A14_B002383.gencode.vH29       endothelial   \n",
       "A14_B001222.gencode.vH29        epithelial   \n",
       "A14_B002014.gencode.vH29           stromal   \n",
       "B22_B002386.gencode.vH29            immune   \n",
       "A1_B002382.gencode.vH29         epithelial   \n",
       "A10_B002382.gencode.vH29        epithelial   \n",
       "A18_B001223.gencode.vH29        epithelial   \n",
       "G21_B003138.gencode.vH29            immune   \n",
       "P2_1_AAAGATGCATCACGAT               immune   \n",
       "P22_B002014.gencode.vH29            immune   \n",
       "P1_1_CTCACACGTGTGCCTG               immune   \n",
       "P1_2_TTTGGTTGTGAGGGTT              stromal   \n",
       "P2_2_CAGAATCTCCCTGACT               immune   \n",
       "P2_1_AAATGCCAGTCGATAA           epithelial   \n",
       "P2_1_ACACCGGTCTAGAGTC               immune   \n",
       "E21_B002014.gencode.vH29            immune   \n",
       "A14_B002382.gencode.vH29           stromal   \n",
       "D22_B003136.gencode.vH29            immune   \n",
       "L21_B003139.gencode.vH29            immune   \n",
       "A21_B002014.gencode.vH29            immune   \n",
       "D22_B002014.gencode.vH29            immune   \n",
       "C22_B002383.gencode.vH29            immune   \n",
       "A10_B002014.gencode.vH29           stromal   \n",
       "E20_B001769.gencode.vH29            immune   \n",
       "E22_B003136.gencode.vH29            immune   \n",
       "C16_B001224.gencode.vH29           stromal   \n",
       "D4_B002461.gencode.vH29         epithelial   \n",
       "N4_B002385.gencode.vH29         epithelial   \n",
       "P3_3_TGGCTGGTCGTCCAGG           epithelial   \n",
       "A11_B002383.gencode.vH29        epithelial   \n",
       "H12_B002382.gencode.vH29        epithelial   \n",
       "D18_B002383.gencode.vH29           stromal   \n",
       "E12_B002382.gencode.vH29       endothelial   \n",
       "\n",
       "                                                                       cell_type  \n",
       "index                                                                             \n",
       "F22_B003140.gencode.vH29                                                  B cell  \n",
       "A20_B001772.gencode.vH29                    CD1c-positive myeloid dendritic cell  \n",
       "B17_B003140.gencode.vH29                                     alveolar macrophage  \n",
       "F4_B003269.gencode.vH29                                               basal cell  \n",
       "E18_B002385.gencode.vH29                            bronchial smooth muscle cell  \n",
       "B2_B002382.gencode.vH29                               capillary endothelial cell  \n",
       "P3_3_AAACCTGAGTAGGCCA                                              ciliated cell  \n",
       "A10_BP9_monocyte.gencode.vH29                                 classical monocyte  \n",
       "D3_B003142.gencode.vH29                                                club cell  \n",
       "H22_B002385.gencode.vH29                                          dendritic cell  \n",
       "E14_B002580.gencode.vH29                                   dendritic cell, human  \n",
       "A12_BP4.gencode.vH29             effector memory CD4-positive, alpha-beta T cell  \n",
       "D18_BP6_cd4.gencode.vH29         effector memory CD8-positive, alpha-beta T cell  \n",
       "A1_B002014.gencode.vH29                                         endothelial cell  \n",
       "A2_B002383.gencode.vH29                               endothelial cell of artery  \n",
       "A14_B002383.gencode.vH29                    endothelial cell of lymphatic vessel  \n",
       "A14_B001222.gencode.vH29                                         epithelial cell  \n",
       "A14_B002014.gencode.vH29                                              fibroblast  \n",
       "B22_B002386.gencode.vH29                                   intermediate monocyte  \n",
       "A1_B002382.gencode.vH29                                       lung ciliated cell  \n",
       "A10_B002382.gencode.vH29                                        lung goblet cell  \n",
       "A18_B001223.gencode.vH29                                lung neuroendocrine cell  \n",
       "G21_B003138.gencode.vH29                                              lymphocyte  \n",
       "P2_1_AAAGATGCATCACGAT                                                 macrophage  \n",
       "P22_B002014.gencode.vH29                                        mature NK T cell  \n",
       "P1_1_CTCACACGTGTGCCTG                                              megakaryocyte  \n",
       "P1_2_TTTGGTTGTGAGGGTT                                 mesothelial cell of pleura  \n",
       "P2_2_CAGAATCTCCCTGACT                                                   monocyte  \n",
       "P2_1_AAATGCCAGTCGATAA                                       mucus secreting cell  \n",
       "P2_1_ACACCGGTCTAGAGTC                              myeloid dendritic cell, human  \n",
       "E21_B002014.gencode.vH29                                       myeloid leukocyte  \n",
       "A14_B002382.gencode.vH29                                      myofibroblast cell  \n",
       "D22_B003136.gencode.vH29       naive thymus-derived CD4-positive, alpha-beta ...  \n",
       "L21_B003139.gencode.vH29       naive thymus-derived CD8-positive, alpha-beta ...  \n",
       "A21_B002014.gencode.vH29                                     natural killer cell  \n",
       "D22_B002014.gencode.vH29                                              neutrophil  \n",
       "C22_B002383.gencode.vH29                                  non-classical monocyte  \n",
       "A10_B002014.gencode.vH29                                                pericyte  \n",
       "E20_B001769.gencode.vH29                                             plasma cell  \n",
       "E22_B003136.gencode.vH29                      plasmacytoid dendritic cell, human  \n",
       "C16_B001224.gencode.vH29                       pulmonary interstitial fibroblast  \n",
       "D4_B002461.gencode.vH29                                       pulmonary ionocyte  \n",
       "N4_B002385.gencode.vH29                                   respiratory basal cell  \n",
       "P3_3_TGGCTGGTCGTCCAGG                               tracheobronchial serous cell  \n",
       "A11_B002383.gencode.vH29                                       type I pneumocyte  \n",
       "H12_B002382.gencode.vH29                                      type II pneumocyte  \n",
       "D18_B002383.gencode.vH29                  vascular associated smooth muscle cell  \n",
       "E12_B002382.gencode.vH29                                   vein endothelial cell  "
      ]
     },
     "execution_count": 31,
     "metadata": {},
     "output_type": "execute_result"
    }
   ],
   "source": [
    "cell_compartment_lookup_df = pd.concat([smartseq_adata.obs[['compartment','cell_type']], tenx_adata.obs[['compartment','cell_type']]]).drop_duplicates()\n",
    "cell_compartment_lookup_df.sort_values(by=['cell_type'])"
   ]
  },
  {
   "cell_type": "code",
   "execution_count": 6,
   "metadata": {},
   "outputs": [
    {
     "name": "stderr",
     "output_type": "stream",
     "text": [
      "c:\\ProgramData\\Anaconda3\\lib\\site-packages\\plotly\\express\\_core.py:1637: FutureWarning:\n",
      "\n",
      "The frame.append method is deprecated and will be removed from pandas in a future version. Use pandas.concat instead.\n",
      "\n"
     ]
    },
    {
     "data": {
      "application/vnd.plotly.v1+json": {
       "config": {
        "plotlyServerURL": "https://plot.ly"
       },
       "data": [
        {
         "branchvalues": "total",
         "customdata": [
          [
           1,
           "<br>Skin",
           "Tissue"
          ],
          [
           1,
           "<br>skin",
           "tissue"
          ],
          [
           2,
           "<br>186<br>375",
           "Sample Ischemic Time (mins)"
          ],
          [
           2,
           "<br>Female<br>Male",
           "Sex"
          ],
          [
           8,
           "<br>DC1<br>DC2<br>LAM-like<br>Langerhans<br>Mature DC<br>Mo/MΦ FCGR3A lo<br>MΦ LYVE1 hi<br>Proliferating MΦ",
           "annotation"
          ],
          [
           5,
           "<br>85<br>86<br>87<br>91<br>92",
           "batch"
          ],
          [
           3,
           "<br>## Error parsing values ##",
           "broad"
          ],
          [
           1,
           "<br>Skin - Sun Exposed (Lower leg)",
           "Tissue Site Detail"
          ],
          [
           96,
           null,
           "scrublet_score"
          ],
          [
           3,
           "<br>## Error parsing values ##",
           "granular"
          ],
          [
           162,
           null,
           "n_genes"
          ],
          [
           162,
           null,
           "nGenes"
          ],
          [
           167,
           null,
           "nUMIs"
          ],
          [
           2,
           "<br>GTEX-15EOM<br>GTEX-1HSMQ",
           "participant_id"
          ],
          [
           4,
           "<br>CST<br>EZ<br>NST<br>TST",
           "prep"
          ],
          [
           162,
           null,
           "PercentRibo"
          ],
          [
           1,
           "<br>False",
           "scrublet"
          ],
          [
           2,
           "<br>GTEX-15EOM-5003-SM-G64IH<br>GTEX-1HSMQ-5007-SM-GKSJG",
           "Sample ID"
          ],
          [
           2,
           "<br>GTEX-15EOM-5003<br>GTEX-1HSMQ-5007",
           "Sample ID short"
          ],
          [
           2,
           "<br>21-40<br>51-60",
           "Age_bin"
          ],
          [
           155,
           null,
           "barcode"
          ],
          [
           50,
           null,
           "PercentMito"
          ],
          [
           2,
           "<br>01<br>03",
           "individual"
          ],
          [
           22,
           "<br>10<br>13<br>14<br>15<br>16<br>17<br>18<br>19<br>2<br>20<br>24<br>28<br>29<br>30<br>34<br>38<br>39<br>4<br>6<br>7<br>8<br>9",
           "leiden"
          ],
          [
           3,
           "<br>LAM<br>Mac<br>non-mac",
           "LAM_prediction"
          ]
         ],
         "domain": {
          "x": [
           0,
           1
          ],
          "y": [
           0,
           1
          ]
         },
         "hovertemplate": "<b>%{hovertext}</b><br><br>labels=%{label}<br>nunique=%{customdata[0]}<br>parent=%{parent}<br>id=%{id}<br>unique=%{customdata[1]}<br>colname=%{customdata[2]}<extra></extra>",
         "hovertext": [
          "Tissue",
          "tissue",
          "Sample Ischemic Time (mins)",
          "Sex",
          "annotation",
          "batch",
          "broad",
          "Tissue Site Detail",
          "scrublet_score",
          "granular",
          "n_genes",
          "nGenes",
          "nUMIs",
          "participant_id",
          "prep",
          "PercentRibo",
          "scrublet",
          "Sample ID",
          "Sample ID short",
          "Age_bin",
          "barcode",
          "PercentMito",
          "individual",
          "leiden",
          "LAM_prediction"
         ],
         "ids": [
          "Tissue",
          "tissue",
          "Sample Ischemic Time (mins)",
          "Sex",
          "annotation",
          "batch",
          "broad",
          "Tissue Site Detail",
          "scrublet_score",
          "granular",
          "n_genes",
          "nGenes",
          "nUMIs",
          "participant_id",
          "prep",
          "PercentRibo",
          "scrublet",
          "Sample ID",
          "Sample ID short",
          "Age_bin",
          "barcode",
          "PercentMito",
          "individual",
          "leiden",
          "LAM_prediction"
         ],
         "labels": [
          "Tissue",
          "tissue",
          "Sample Ischemic Time (mins)",
          "Sex",
          "annotation",
          "batch",
          "broad",
          "Tissue Site Detail",
          "scrublet_score",
          "granular",
          "n_genes",
          "nGenes",
          "nUMIs",
          "participant_id",
          "prep",
          "PercentRibo",
          "scrublet",
          "Sample ID",
          "Sample ID short",
          "Age_bin",
          "barcode",
          "PercentMito",
          "individual",
          "leiden",
          "LAM_prediction"
         ],
         "marker": {
          "colors": [
           "#636efa",
           "#EF553B",
           "#00cc96",
           "#ab63fa",
           "#FFA15A",
           "#19d3f3",
           "#FF6692",
           "#B6E880",
           "#FF97FF",
           "#FECB52",
           "#636efa",
           "#EF553B",
           "#00cc96",
           "#ab63fa",
           "#FFA15A",
           "#19d3f3",
           "#FF6692",
           "#B6E880",
           "#FF97FF",
           "#FECB52",
           "#636efa",
           "#EF553B",
           "#00cc96",
           "#ab63fa",
           "#FFA15A"
          ],
          "colorscale": [
           [
            0,
            "#440154"
           ],
           [
            0.1111111111111111,
            "#482878"
           ],
           [
            0.2222222222222222,
            "#3e4989"
           ],
           [
            0.3333333333333333,
            "#31688e"
           ],
           [
            0.4444444444444444,
            "#26828e"
           ],
           [
            0.5555555555555556,
            "#1f9e89"
           ],
           [
            0.6666666666666666,
            "#35b779"
           ],
           [
            0.7777777777777778,
            "#6ece58"
           ],
           [
            0.8888888888888888,
            "#b5de2b"
           ],
           [
            1,
            "#fde725"
           ]
          ]
         },
         "name": "",
         "parents": [
          "",
          "",
          "",
          "",
          "",
          "",
          "",
          "",
          "",
          "",
          "",
          "",
          "",
          "",
          "",
          "",
          "",
          "",
          "",
          "",
          "",
          "",
          "",
          "",
          ""
         ],
         "type": "treemap",
         "values": [
          1,
          1,
          2,
          2,
          8,
          5,
          3,
          1,
          96,
          3,
          162,
          162,
          167,
          2,
          4,
          162,
          1,
          2,
          2,
          2,
          155,
          50,
          2,
          22,
          3
         ]
        }
       ],
       "layout": {
        "height": 800,
        "legend": {
         "tracegroupgap": 0
        },
        "margin": {
         "b": 25,
         "l": 25,
         "r": 25,
         "t": 50
        },
        "template": {
         "data": {
          "bar": [
           {
            "error_x": {
             "color": "#2a3f5f"
            },
            "error_y": {
             "color": "#2a3f5f"
            },
            "marker": {
             "line": {
              "color": "#E5ECF6",
              "width": 0.5
             },
             "pattern": {
              "fillmode": "overlay",
              "size": 10,
              "solidity": 0.2
             }
            },
            "type": "bar"
           }
          ],
          "barpolar": [
           {
            "marker": {
             "line": {
              "color": "#E5ECF6",
              "width": 0.5
             },
             "pattern": {
              "fillmode": "overlay",
              "size": 10,
              "solidity": 0.2
             }
            },
            "type": "barpolar"
           }
          ],
          "carpet": [
           {
            "aaxis": {
             "endlinecolor": "#2a3f5f",
             "gridcolor": "white",
             "linecolor": "white",
             "minorgridcolor": "white",
             "startlinecolor": "#2a3f5f"
            },
            "baxis": {
             "endlinecolor": "#2a3f5f",
             "gridcolor": "white",
             "linecolor": "white",
             "minorgridcolor": "white",
             "startlinecolor": "#2a3f5f"
            },
            "type": "carpet"
           }
          ],
          "choropleth": [
           {
            "colorbar": {
             "outlinewidth": 0,
             "ticks": ""
            },
            "type": "choropleth"
           }
          ],
          "contour": [
           {
            "colorbar": {
             "outlinewidth": 0,
             "ticks": ""
            },
            "colorscale": [
             [
              0,
              "#0d0887"
             ],
             [
              0.1111111111111111,
              "#46039f"
             ],
             [
              0.2222222222222222,
              "#7201a8"
             ],
             [
              0.3333333333333333,
              "#9c179e"
             ],
             [
              0.4444444444444444,
              "#bd3786"
             ],
             [
              0.5555555555555556,
              "#d8576b"
             ],
             [
              0.6666666666666666,
              "#ed7953"
             ],
             [
              0.7777777777777778,
              "#fb9f3a"
             ],
             [
              0.8888888888888888,
              "#fdca26"
             ],
             [
              1,
              "#f0f921"
             ]
            ],
            "type": "contour"
           }
          ],
          "contourcarpet": [
           {
            "colorbar": {
             "outlinewidth": 0,
             "ticks": ""
            },
            "type": "contourcarpet"
           }
          ],
          "heatmap": [
           {
            "colorbar": {
             "outlinewidth": 0,
             "ticks": ""
            },
            "colorscale": [
             [
              0,
              "#0d0887"
             ],
             [
              0.1111111111111111,
              "#46039f"
             ],
             [
              0.2222222222222222,
              "#7201a8"
             ],
             [
              0.3333333333333333,
              "#9c179e"
             ],
             [
              0.4444444444444444,
              "#bd3786"
             ],
             [
              0.5555555555555556,
              "#d8576b"
             ],
             [
              0.6666666666666666,
              "#ed7953"
             ],
             [
              0.7777777777777778,
              "#fb9f3a"
             ],
             [
              0.8888888888888888,
              "#fdca26"
             ],
             [
              1,
              "#f0f921"
             ]
            ],
            "type": "heatmap"
           }
          ],
          "heatmapgl": [
           {
            "colorbar": {
             "outlinewidth": 0,
             "ticks": ""
            },
            "colorscale": [
             [
              0,
              "#0d0887"
             ],
             [
              0.1111111111111111,
              "#46039f"
             ],
             [
              0.2222222222222222,
              "#7201a8"
             ],
             [
              0.3333333333333333,
              "#9c179e"
             ],
             [
              0.4444444444444444,
              "#bd3786"
             ],
             [
              0.5555555555555556,
              "#d8576b"
             ],
             [
              0.6666666666666666,
              "#ed7953"
             ],
             [
              0.7777777777777778,
              "#fb9f3a"
             ],
             [
              0.8888888888888888,
              "#fdca26"
             ],
             [
              1,
              "#f0f921"
             ]
            ],
            "type": "heatmapgl"
           }
          ],
          "histogram": [
           {
            "marker": {
             "pattern": {
              "fillmode": "overlay",
              "size": 10,
              "solidity": 0.2
             }
            },
            "type": "histogram"
           }
          ],
          "histogram2d": [
           {
            "colorbar": {
             "outlinewidth": 0,
             "ticks": ""
            },
            "colorscale": [
             [
              0,
              "#0d0887"
             ],
             [
              0.1111111111111111,
              "#46039f"
             ],
             [
              0.2222222222222222,
              "#7201a8"
             ],
             [
              0.3333333333333333,
              "#9c179e"
             ],
             [
              0.4444444444444444,
              "#bd3786"
             ],
             [
              0.5555555555555556,
              "#d8576b"
             ],
             [
              0.6666666666666666,
              "#ed7953"
             ],
             [
              0.7777777777777778,
              "#fb9f3a"
             ],
             [
              0.8888888888888888,
              "#fdca26"
             ],
             [
              1,
              "#f0f921"
             ]
            ],
            "type": "histogram2d"
           }
          ],
          "histogram2dcontour": [
           {
            "colorbar": {
             "outlinewidth": 0,
             "ticks": ""
            },
            "colorscale": [
             [
              0,
              "#0d0887"
             ],
             [
              0.1111111111111111,
              "#46039f"
             ],
             [
              0.2222222222222222,
              "#7201a8"
             ],
             [
              0.3333333333333333,
              "#9c179e"
             ],
             [
              0.4444444444444444,
              "#bd3786"
             ],
             [
              0.5555555555555556,
              "#d8576b"
             ],
             [
              0.6666666666666666,
              "#ed7953"
             ],
             [
              0.7777777777777778,
              "#fb9f3a"
             ],
             [
              0.8888888888888888,
              "#fdca26"
             ],
             [
              1,
              "#f0f921"
             ]
            ],
            "type": "histogram2dcontour"
           }
          ],
          "mesh3d": [
           {
            "colorbar": {
             "outlinewidth": 0,
             "ticks": ""
            },
            "type": "mesh3d"
           }
          ],
          "parcoords": [
           {
            "line": {
             "colorbar": {
              "outlinewidth": 0,
              "ticks": ""
             }
            },
            "type": "parcoords"
           }
          ],
          "pie": [
           {
            "automargin": true,
            "type": "pie"
           }
          ],
          "scatter": [
           {
            "marker": {
             "colorbar": {
              "outlinewidth": 0,
              "ticks": ""
             }
            },
            "type": "scatter"
           }
          ],
          "scatter3d": [
           {
            "line": {
             "colorbar": {
              "outlinewidth": 0,
              "ticks": ""
             }
            },
            "marker": {
             "colorbar": {
              "outlinewidth": 0,
              "ticks": ""
             }
            },
            "type": "scatter3d"
           }
          ],
          "scattercarpet": [
           {
            "marker": {
             "colorbar": {
              "outlinewidth": 0,
              "ticks": ""
             }
            },
            "type": "scattercarpet"
           }
          ],
          "scattergeo": [
           {
            "marker": {
             "colorbar": {
              "outlinewidth": 0,
              "ticks": ""
             }
            },
            "type": "scattergeo"
           }
          ],
          "scattergl": [
           {
            "marker": {
             "colorbar": {
              "outlinewidth": 0,
              "ticks": ""
             }
            },
            "type": "scattergl"
           }
          ],
          "scattermapbox": [
           {
            "marker": {
             "colorbar": {
              "outlinewidth": 0,
              "ticks": ""
             }
            },
            "type": "scattermapbox"
           }
          ],
          "scatterpolar": [
           {
            "marker": {
             "colorbar": {
              "outlinewidth": 0,
              "ticks": ""
             }
            },
            "type": "scatterpolar"
           }
          ],
          "scatterpolargl": [
           {
            "marker": {
             "colorbar": {
              "outlinewidth": 0,
              "ticks": ""
             }
            },
            "type": "scatterpolargl"
           }
          ],
          "scatterternary": [
           {
            "marker": {
             "colorbar": {
              "outlinewidth": 0,
              "ticks": ""
             }
            },
            "type": "scatterternary"
           }
          ],
          "surface": [
           {
            "colorbar": {
             "outlinewidth": 0,
             "ticks": ""
            },
            "colorscale": [
             [
              0,
              "#0d0887"
             ],
             [
              0.1111111111111111,
              "#46039f"
             ],
             [
              0.2222222222222222,
              "#7201a8"
             ],
             [
              0.3333333333333333,
              "#9c179e"
             ],
             [
              0.4444444444444444,
              "#bd3786"
             ],
             [
              0.5555555555555556,
              "#d8576b"
             ],
             [
              0.6666666666666666,
              "#ed7953"
             ],
             [
              0.7777777777777778,
              "#fb9f3a"
             ],
             [
              0.8888888888888888,
              "#fdca26"
             ],
             [
              1,
              "#f0f921"
             ]
            ],
            "type": "surface"
           }
          ],
          "table": [
           {
            "cells": {
             "fill": {
              "color": "#EBF0F8"
             },
             "line": {
              "color": "white"
             }
            },
            "header": {
             "fill": {
              "color": "#C8D4E3"
             },
             "line": {
              "color": "white"
             }
            },
            "type": "table"
           }
          ]
         },
         "layout": {
          "annotationdefaults": {
           "arrowcolor": "#2a3f5f",
           "arrowhead": 0,
           "arrowwidth": 1
          },
          "autotypenumbers": "strict",
          "coloraxis": {
           "colorbar": {
            "outlinewidth": 0,
            "ticks": ""
           }
          },
          "colorscale": {
           "diverging": [
            [
             0,
             "#8e0152"
            ],
            [
             0.1,
             "#c51b7d"
            ],
            [
             0.2,
             "#de77ae"
            ],
            [
             0.3,
             "#f1b6da"
            ],
            [
             0.4,
             "#fde0ef"
            ],
            [
             0.5,
             "#f7f7f7"
            ],
            [
             0.6,
             "#e6f5d0"
            ],
            [
             0.7,
             "#b8e186"
            ],
            [
             0.8,
             "#7fbc41"
            ],
            [
             0.9,
             "#4d9221"
            ],
            [
             1,
             "#276419"
            ]
           ],
           "sequential": [
            [
             0,
             "#0d0887"
            ],
            [
             0.1111111111111111,
             "#46039f"
            ],
            [
             0.2222222222222222,
             "#7201a8"
            ],
            [
             0.3333333333333333,
             "#9c179e"
            ],
            [
             0.4444444444444444,
             "#bd3786"
            ],
            [
             0.5555555555555556,
             "#d8576b"
            ],
            [
             0.6666666666666666,
             "#ed7953"
            ],
            [
             0.7777777777777778,
             "#fb9f3a"
            ],
            [
             0.8888888888888888,
             "#fdca26"
            ],
            [
             1,
             "#f0f921"
            ]
           ],
           "sequentialminus": [
            [
             0,
             "#0d0887"
            ],
            [
             0.1111111111111111,
             "#46039f"
            ],
            [
             0.2222222222222222,
             "#7201a8"
            ],
            [
             0.3333333333333333,
             "#9c179e"
            ],
            [
             0.4444444444444444,
             "#bd3786"
            ],
            [
             0.5555555555555556,
             "#d8576b"
            ],
            [
             0.6666666666666666,
             "#ed7953"
            ],
            [
             0.7777777777777778,
             "#fb9f3a"
            ],
            [
             0.8888888888888888,
             "#fdca26"
            ],
            [
             1,
             "#f0f921"
            ]
           ]
          },
          "colorway": [
           "#636efa",
           "#EF553B",
           "#00cc96",
           "#ab63fa",
           "#FFA15A",
           "#19d3f3",
           "#FF6692",
           "#B6E880",
           "#FF97FF",
           "#FECB52"
          ],
          "font": {
           "color": "#2a3f5f"
          },
          "geo": {
           "bgcolor": "white",
           "lakecolor": "white",
           "landcolor": "#E5ECF6",
           "showlakes": true,
           "showland": true,
           "subunitcolor": "white"
          },
          "hoverlabel": {
           "align": "left"
          },
          "hovermode": "closest",
          "mapbox": {
           "style": "light"
          },
          "paper_bgcolor": "white",
          "plot_bgcolor": "#E5ECF6",
          "polar": {
           "angularaxis": {
            "gridcolor": "white",
            "linecolor": "white",
            "ticks": ""
           },
           "bgcolor": "#E5ECF6",
           "radialaxis": {
            "gridcolor": "white",
            "linecolor": "white",
            "ticks": ""
           }
          },
          "scene": {
           "xaxis": {
            "backgroundcolor": "#E5ECF6",
            "gridcolor": "white",
            "gridwidth": 2,
            "linecolor": "white",
            "showbackground": true,
            "ticks": "",
            "zerolinecolor": "white"
           },
           "yaxis": {
            "backgroundcolor": "#E5ECF6",
            "gridcolor": "white",
            "gridwidth": 2,
            "linecolor": "white",
            "showbackground": true,
            "ticks": "",
            "zerolinecolor": "white"
           },
           "zaxis": {
            "backgroundcolor": "#E5ECF6",
            "gridcolor": "white",
            "gridwidth": 2,
            "linecolor": "white",
            "showbackground": true,
            "ticks": "",
            "zerolinecolor": "white"
           }
          },
          "shapedefaults": {
           "line": {
            "color": "#2a3f5f"
           }
          },
          "ternary": {
           "aaxis": {
            "gridcolor": "white",
            "linecolor": "white",
            "ticks": ""
           },
           "baxis": {
            "gridcolor": "white",
            "linecolor": "white",
            "ticks": ""
           },
           "bgcolor": "#E5ECF6",
           "caxis": {
            "gridcolor": "white",
            "linecolor": "white",
            "ticks": ""
           }
          },
          "title": {
           "x": 0.05
          },
          "xaxis": {
           "automargin": true,
           "gridcolor": "white",
           "linecolor": "white",
           "ticks": "",
           "title": {
            "standoff": 15
           },
           "zerolinecolor": "white",
           "zerolinewidth": 2
          },
          "yaxis": {
           "automargin": true,
           "gridcolor": "white",
           "linecolor": "white",
           "ticks": "",
           "title": {
            "standoff": 15
           },
           "zerolinecolor": "white",
           "zerolinewidth": 2
          }
         }
        },
        "title": {
         "text": "Summarized metadata from the \"gtex_lung\" dataset"
        },
        "width": 800,
        "xaxis": {
         "categoryorder": "category ascending",
         "title": {
          "text": "CellType label"
         }
        },
        "yaxis": {
         "title": {
          "text": "Unique Counts"
         }
        }
       }
      }
     },
     "metadata": {},
     "output_type": "display_data"
    }
   ],
   "source": [
    "fig = plot_obs_treemap(query_adata, max_unique=50, dataset_name=QUERY_DATASET_NAME)\n",
    "fig.show()"
   ]
  },
  {
   "cell_type": "markdown",
   "metadata": {},
   "source": [
    "# Creating individual predictions\n",
    "\n",
    "### Make a reusable function to run any external Python/R script with arguments."
   ]
  },
  {
   "cell_type": "code",
   "execution_count": 7,
   "metadata": {},
   "outputs": [],
   "source": [
    "import os\n",
    "from subprocess import Popen, PIPE\n",
    "\n",
    "\n",
    "def run_external_script(script_command, script_name, args):\n",
    "    \"\"\"Invokes the R-code from Python using 32-bit Rscript 3.4.4 command.\n",
    "        Uses the Python subprocess module to create a new Pipe.\n",
    "\n",
    "    Args:\n",
    "        script_command (str): Rscript/python\n",
    "        script_name (str): Script-to-invoke\n",
    "        args (str): Args-for-script\n",
    "    \"\"\"\n",
    "    try:\n",
    "        cmd = [script_command, script_name, args]\n",
    "        pipe = Popen( cmd, stdin=PIPE, stdout=PIPE, stderr=PIPE )\n",
    "        output, error = pipe.communicate()\n",
    "\n",
    "        script_command = script_command.capitalize()\n",
    "        if pipe.returncode == 0:\n",
    "            print(f'{script_command} OUTPUT:\\n')\n",
    "            print(output.decode())\n",
    "        else:\n",
    "            print(f'{script_command} OUTPUT:\\n')\n",
    "            print(output.decode())\n",
    "            print(f'{script_command} ERROR:\\n')\n",
    "            print(error.decode())\n",
    "    except Exception as e:\n",
    "        print(f'\\nSomething went wrong in the {script_command}-Script {script_name}.')\n",
    "        print(e)"
   ]
  },
  {
   "cell_type": "markdown",
   "metadata": {},
   "source": [
    "## 1. CellTypist"
   ]
  },
  {
   "cell_type": "code",
   "execution_count": 25,
   "metadata": {},
   "outputs": [
    {
     "name": "stdout",
     "output_type": "stream",
     "text": [
      "python CellTypist/celltypist_prediction_pipeline.py --mount-google-drive \"False\" --existing-annotations-column \"\" --folder-name \"Datasets\" --dataset-name \"gtex_lung\" --output-predictions-file \"celltypist_preds.csv\" --model-name \"Human_Lung_Atlas.pkl\"\n",
      "Python OUTPUT:\n",
      "\n",
      "2023032715\n",
      "MOUNT_GOOGLE_DRIVE=False, EXISTING_ANNOTATIONS_COLUMN=None, ANNDATA_FOLDER='Datasets', DATASET_NAME='gtex_lung', QUERY_DATA_FILE='gtex_lung/gtex_lung.h5ad', OUTPUT_PREDICTIONS_FILE='celltypist_preds.csv', MODEL_NAME='Human_Lung_Atlas.pkl'\n",
      "\n"
     ]
    }
   ],
   "source": [
    "PYTHON_CMD = 'python'\n",
    "SCRIPT_NAME = 'CellTypist/celltypist_prediction_pipeline.py'\n",
    "OUTPUT_PREDICTIONS_FILE = QUERY_DATASET_NAME+'_'+'celltypist_preds.csv'\n",
    "MOUNT_GOOGLE_DRIVE = 'False'\n",
    "CELLTYPIST_MODEL_NAME = 'Human_Lung_Atlas.pkl'\n",
    "EXISTING_ANNOTATIONS_COLUMN = ''\n",
    "\n",
    "args = f'--mount-google-drive \"{MOUNT_GOOGLE_DRIVE}\" \\\n",
    "--existing-annotations-column \"{EXISTING_ANNOTATIONS_COLUMN}\" \\\n",
    "--folder-name \"{ANNDATA_FOLDER}\" \\\n",
    "--dataset-name \"{QUERY_DATASET_NAME}\" \\\n",
    "--output-predictions-file \"{OUTPUT_PREDICTIONS_FILE}\" \\\n",
    "--model-name \"{CELLTYPIST_MODEL_NAME}\"'\n",
    "\n",
    "print(PYTHON_CMD, SCRIPT_NAME, args)\n",
    "run_external_script(PYTHON_CMD, SCRIPT_NAME, args)"
   ]
  },
  {
   "cell_type": "markdown",
   "metadata": {},
   "source": [
    "## 2. Azimuth"
   ]
  },
  {
   "cell_type": "code",
   "execution_count": 8,
   "metadata": {},
   "outputs": [
    {
     "name": "stdout",
     "output_type": "stream",
     "text": [
      "RScript Azimuth/azimuth_prediction_pipeline.R Datasets gtex_lung gtex_lung_azimuth_preds.tsv lungref\n"
     ]
    }
   ],
   "source": [
    "# RSCRIPT_CMD = '/N/soft/rhel7/r/4.1.1/lib64/R/bin/Rscript'\n",
    "RSCRIPT_CMD = 'RScript'\n",
    "SCRIPT_NAME = 'Azimuth/azimuth_prediction_pipeline.R'\n",
    "OUTPUT_PREDICTIONS_FILE = QUERY_DATASET_NAME+'_'+'azimuth_preds.tsv'\n",
    "\n",
    "'''\n",
    "Choose one of Azimuth's references:\n",
    "    \"adiposeref\", \"bonemarrowref\", \"fetusref\", \"heartref\", \n",
    "    \"humancortexref\", \"kidneyref\", \"lungref\", \"mousecortexref\", \n",
    "    \"pancreasref\", \"pbmcref\", \"tonsilref\"\n",
    "'''\n",
    "REFERENCE = 'lungref'\n",
    "\n",
    "args = f'{ANNDATA_FOLDER} {QUERY_DATASET_NAME} {OUTPUT_PREDICTIONS_FILE} {REFERENCE}'\n",
    "\n",
    "# /N/soft/rhel7/r/4.1.1/lib64/R/bin/Rscript Azimuth/azimuth_prediction_pipeline.R \"Datasets\" \"LCA\" \"azimuth_preds_new.csv\"\n",
    "print(RSCRIPT_CMD, SCRIPT_NAME, args)\n",
    "run_external_script(RSCRIPT_CMD, SCRIPT_NAME, args)"
   ]
  },
  {
   "cell_type": "markdown",
   "metadata": {},
   "source": [
    "## 3. PopV\n",
    "\n",
    "Modularizing the PopV Tutorial is tricky. Keeping this aside for now."
   ]
  },
  {
   "cell_type": "code",
   "execution_count": null,
   "metadata": {},
   "outputs": [],
   "source": [
    "# For Lung datasets, run the PopV tutorial ipynb file for now."
   ]
  }
 ],
 "metadata": {
  "kernelspec": {
   "display_name": "Python 3 (ipykernel)",
   "language": "python",
   "name": "python3"
  },
  "language_info": {
   "codemirror_mode": {
    "name": "ipython",
    "version": 3
   },
   "file_extension": ".py",
   "mimetype": "text/x-python",
   "name": "python",
   "nbconvert_exporter": "python",
   "pygments_lexer": "ipython3",
   "version": "3.9.12"
  },
  "widgets": {
   "application/vnd.jupyter.widget-state+json": {
    "state": {},
    "version_major": 2,
    "version_minor": 0
   }
  }
 },
 "nbformat": 4,
 "nbformat_minor": 2
}
